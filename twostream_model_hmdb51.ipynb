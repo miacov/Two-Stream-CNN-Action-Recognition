{
  "cells": [
    {
      "cell_type": "code",
      "execution_count": 1,
      "id": "88155940-e748-4702-a05a-e2a3664c6eab",
      "metadata": {
        "id": "88155940-e748-4702-a05a-e2a3664c6eab"
      },
      "outputs": [],
      "source": [
        "# PyTorch and model training\n",
        "import torch\n",
        "import torch.nn as nn\n",
        "import torch.optim as optim\n",
        "from torch.optim.lr_scheduler import StepLR, CyclicLR\n",
        "from torchmetrics import Accuracy\n",
        "from torch.utils.data import Dataset, DataLoader\n",
        "import torchvision.transforms as transforms\n",
        "from torchinfo import summary\n",
        "from tqdm.notebook import tqdm\n",
        "import numpy as np\n",
        "import random\n",
        "\n",
        "# TensorBoard\n",
        "from torch.utils.tensorboard import SummaryWriter\n",
        "import subprocess\n",
        "import webbrowser\n",
        "from datetime import datetime\n",
        "import time\n",
        "\n",
        "# File I/O\n",
        "import os\n",
        "from PIL import Image\n",
        "import pandas as pd\n",
        "\n",
        "# Visualization\n",
        "import matplotlib.pyplot as plt\n",
        "from matplotlib.ticker import MaxNLocator\n",
        "import seaborn as sns\n",
        "from sklearn.metrics import confusion_matrix"
      ]
    },
    {
      "cell_type": "markdown",
      "id": "b96156db-1a9b-4abe-a6ba-b38153c161c0",
      "metadata": {
        "id": "b96156db-1a9b-4abe-a6ba-b38153c161c0"
      },
      "source": [
        "# Human Motion Database 51 (HMDB51) Two-Stream Model (Combined Frames Model and Optical Flow Model)"
      ]
    },
    {
      "cell_type": "markdown",
      "id": "6f484236-4f0d-40db-936e-c3ed52e733a3",
      "metadata": {
        "id": "6f484236-4f0d-40db-936e-c3ed52e733a3"
      },
      "source": [
        "## Define constants and set seed"
      ]
    },
    {
      "cell_type": "code",
      "execution_count": 2,
      "id": "3ce825c4-b7de-482c-a6c4-8d3170b3cdfb",
      "metadata": {
        "id": "3ce825c4-b7de-482c-a6c4-8d3170b3cdfb",
        "outputId": "8ecfd718-72cb-481e-c788-c0cafe39973e",
        "colab": {
          "base_uri": "https://localhost:8080/"
        }
      },
      "outputs": [
        {
          "output_type": "stream",
          "name": "stdout",
          "text": [
            "Device: cuda\n"
          ]
        }
      ],
      "source": [
        "# Training and evaluation\n",
        "BATCH_SIZE = 32\n",
        "LEARNING_RATE = 0.0001\n",
        "LEARNING_RATE_ADAPT_STEP = 2\n",
        "LEARNING_RATE_ADAPT_GAMMA = 0.3\n",
        "EPOCHS = 6\n",
        "IMAGE_SIZE = (224, 224)\n",
        "DEVICE = (\n",
        "    \"cuda\" if torch.cuda.is_available()\n",
        "    else \"mps\" if torch.backends.mps.is_available()\n",
        "    else \"cpu\"\n",
        ")\n",
        "print(f\"Device: {DEVICE}\")\n",
        "\n",
        "# Optical flow\n",
        "OPTICAL_FLOW_SELECT = [0, 1, 2, 3, 4, 5, 6, 7]  # Frame selection for stack\n",
        "\n",
        "# Two-Stream\n",
        "OUT_FEATURES_CONV1X1 = 1024  # Features after 1x1 convolution on combined spatial and temporal features\n",
        "DROPOUT_PROBABILITY = 0.2\n",
        "\n",
        "# TensorBoard\n",
        "TENSORBOARD_TRACKING = False\n",
        "TENSORBOARD_NOT_OPEN = TENSORBOARD_TRACKING\n",
        "\n",
        "# Seed\n",
        "SEED = 0\n",
        "random.seed(SEED)\n",
        "np.random.seed(SEED)\n",
        "torch.manual_seed(SEED)\n",
        "torch.cuda.manual_seed_all(SEED)"
      ]
    },
    {
      "cell_type": "markdown",
      "id": "aea47b72-b0bd-4ef1-9308-2c889f48ca4b",
      "metadata": {
        "id": "aea47b72-b0bd-4ef1-9308-2c889f48ca4b"
      },
      "source": [
        "## Prepare dataset"
      ]
    },
    {
      "cell_type": "markdown",
      "id": "c75480d6-2921-49f6-becb-f28783704b77",
      "metadata": {
        "id": "c75480d6-2921-49f6-becb-f28783704b77"
      },
      "source": [
        "### Load train, validation, and test splits"
      ]
    },
    {
      "cell_type": "code",
      "execution_count": 3,
      "id": "e490c391-5b8a-49f9-af26-4758275d43cb",
      "metadata": {
        "id": "e490c391-5b8a-49f9-af26-4758275d43cb"
      },
      "outputs": [],
      "source": [
        "def input_list_from_file(file_path):\n",
        "    list = []\n",
        "    with open(file_path, \"r\") as f:\n",
        "        for item in f:\n",
        "            list.append(item.strip())\n",
        "    return list"
      ]
    },
    {
      "cell_type": "code",
      "execution_count": 4,
      "id": "4cbf1b41-1251-4f37-911c-4043805883a6",
      "metadata": {
        "id": "4cbf1b41-1251-4f37-911c-4043805883a6"
      },
      "outputs": [],
      "source": [
        "# Input training and validation set\n",
        "train_val_files = input_list_from_file(os.path.join(\"HMDB51\", \"train_val_files.txt\"))\n",
        "train_val_labels = input_list_from_file(os.path.join(\"HMDB51\", \"train_val_labels.txt\"))\n",
        "train_files = input_list_from_file(os.path.join(\"HMDB51\", \"train_files.txt\"))\n",
        "train_labels = input_list_from_file(os.path.join(\"HMDB51\", \"train_labels.txt\"))\n",
        "val_files = input_list_from_file(os.path.join(\"HMDB51\", \"val_files.txt\"))\n",
        "val_labels = input_list_from_file(os.path.join(\"HMDB51\", \"val_labels.txt\"))\n",
        "# Input test set\n",
        "test_files = input_list_from_file(os.path.join(\"HMDB51\", \"test_files.txt\"))\n",
        "test_labels = input_list_from_file(os.path.join(\"HMDB51\", \"test_labels.txt\"))\n",
        "\n",
        "\n",
        "# Map action categories to 0-11 labels\n",
        "action_categories = [\"clap\", \"climb\", \"drink\", \"jump\", \"pour\", \"ride_bike\", \"ride_horse\",\n",
        "        \"run\", \"shoot_bow\", \"smoke\", \"throw\", \"wave\"]\n",
        "action_categories_map = {action: idx for idx, action in enumerate(action_categories)}\n",
        "action_categories_map_inv = {idx: action  for idx, action in enumerate(action_categories)}\n",
        "train_val_labels_mapped = [action_categories_map[label] for label in train_val_labels]\n",
        "train_labels_mapped = [action_categories_map[label] for label in train_labels]\n",
        "val_labels_mapped = [action_categories_map[label] for label in val_labels]\n",
        "test_labels_mapped = [action_categories_map[label] for label in test_labels]"
      ]
    },
    {
      "cell_type": "markdown",
      "id": "97a28862-668f-46d5-82e1-e8e9bd47a5fa",
      "metadata": {
        "id": "97a28862-668f-46d5-82e1-e8e9bd47a5fa"
      },
      "source": [
        "### Define data transformations for both streams"
      ]
    },
    {
      "cell_type": "code",
      "execution_count": 5,
      "id": "f2a03c25-44e0-46c0-b5f8-49ce07a1f7e7",
      "metadata": {
        "id": "f2a03c25-44e0-46c0-b5f8-49ce07a1f7e7"
      },
      "outputs": [],
      "source": [
        "class SquarePad:\n",
        "    def __call__(self, img):\n",
        "        max_size = max(img.size)\n",
        "\n",
        "        pad_left = (max_size - img.size[0]) // 2\n",
        "        pad_top = (max_size - img.size[1]) // 2\n",
        "\n",
        "        # Account for odd sizes\n",
        "        pad_right = max_size - (img.size[0] + pad_left)\n",
        "        pad_bottom = max_size - (img.size[1] + pad_top)\n",
        "\n",
        "        return transforms.functional.pad(img, (pad_left, pad_top, pad_right, pad_bottom), 0, \"constant\")"
      ]
    },
    {
      "cell_type": "code",
      "execution_count": 6,
      "id": "cabdbe08-3d13-45e5-b35b-53b636fe44af",
      "metadata": {
        "id": "cabdbe08-3d13-45e5-b35b-53b636fe44af"
      },
      "outputs": [],
      "source": [
        "train_val_transforms_spatial = transforms.Compose([\n",
        "    SquarePad(),\n",
        "    transforms.Resize(IMAGE_SIZE),\n",
        "    transforms.ColorJitter(brightness=0.4, contrast=0.4, saturation=0.4, hue=0.3),\n",
        "    transforms.RandomGrayscale(p=0.1),\n",
        "    transforms.RandomAutocontrast(p=0.1),\n",
        "    transforms.RandomAdjustSharpness(sharpness_factor=2, p=0.1),\n",
        "    transforms.RandomHorizontalFlip(p=0.25),\n",
        "    transforms.RandomPerspective(distortion_scale=0.3, p=0.1),\n",
        "    transforms.RandomRotation(degrees=15),\n",
        "    transforms.ToTensor(),\n",
        "    # ImageNet normalization\n",
        "    transforms.Normalize(mean=[0.485, 0.456, 0.406], std=[0.229, 0.224, 0.225])\n",
        "])\n",
        "\n",
        "test_transforms_spatial = transforms.Compose([\n",
        "    SquarePad(),\n",
        "    transforms.Resize(IMAGE_SIZE),\n",
        "    transforms.ToTensor(),\n",
        "    # ImageNet normalization\n",
        "    transforms.Normalize(mean=[0.485, 0.456, 0.406], std=[0.229, 0.224, 0.225])\n",
        "])\n",
        "\n",
        "train_val_transforms_temporal = transforms.Compose([\n",
        "    transforms.ToTensor(),\n",
        "    # ImageNet normalization\n",
        "    transforms.Normalize(mean=[0.485, 0.456, 0.406], std=[0.229, 0.224, 0.225])\n",
        "])\n",
        "\n",
        "test_transforms_temporal = transforms.Compose([\n",
        "    transforms.ToTensor(),\n",
        "    # ImageNet normalization\n",
        "    transforms.Normalize(mean=[0.485, 0.456, 0.406], std=[0.229, 0.224, 0.225])\n",
        "])"
      ]
    },
    {
      "cell_type": "markdown",
      "id": "73817fd3-480b-42c9-9b79-1c7a4d5c0246",
      "metadata": {
        "id": "73817fd3-480b-42c9-9b79-1c7a4d5c0246"
      },
      "source": [
        "### Define custom dataset and create data loaders"
      ]
    },
    {
      "cell_type": "code",
      "execution_count": 7,
      "id": "62255324-0a83-4794-b5c7-6afa37e76abc",
      "metadata": {
        "id": "62255324-0a83-4794-b5c7-6afa37e76abc"
      },
      "outputs": [],
      "source": [
        "class HMDB51TwoStreamDataset(Dataset):\n",
        "    def __init__(self, files, labels, labels_map,\n",
        "                 frames_spatial_path, frames_temporal_path, frames_temporal_select,\n",
        "                 transform_spatial=None, transform_temporal=None):\n",
        "        self.files = files\n",
        "        self.labels = labels\n",
        "        self.labels_map = labels_map\n",
        "        self.frames_spatial_path = frames_spatial_path\n",
        "        self.frames_temporal_path = frames_temporal_path\n",
        "        self.frames_temporal_select = frames_temporal_select\n",
        "        self.transform_spatial = transform_spatial\n",
        "        self.transform_temporal = transform_temporal\n",
        "\n",
        "    def __len__(self):\n",
        "        return len(self.files)\n",
        "\n",
        "    def __getitem__(self, index):\n",
        "        label = self.labels[index]\n",
        "\n",
        "        frames_label = self.labels_map[label]\n",
        "        file_name = self.files[index]\n",
        "        file_split = file_name.split(\".\")[0]\n",
        "\n",
        "        # Spatial frame\n",
        "        frame_spatial_name = file_split + \"_middle.png\"\n",
        "        frame_spatial_path = os.path.join(self.frames_spatial_path, frames_label, frame_spatial_name)\n",
        "        frame_spatial = Image.open(frame_spatial_path).convert(\"RGB\")\n",
        "        if self.transform_spatial:\n",
        "            frame_spatial = self.transform_spatial(frame_spatial)\n",
        "\n",
        "        # Optical flow frame stack\n",
        "        frames_temporal = []\n",
        "        for frame_temporal_idx in self.frames_temporal_select:\n",
        "            frame_temporal_name = file_split + \"_\" + str(frame_temporal_idx) + \".png\"\n",
        "            frame_temporal_path = os.path.join(self.frames_temporal_path, frames_label, frame_temporal_name)\n",
        "            frame_temporal = Image.open(frame_temporal_path).convert(\"RGB\")\n",
        "            if self.transform_temporal:\n",
        "                frame_temporal = self.transform_temporal(frame_temporal)\n",
        "            frames_temporal.append(frame_temporal)\n",
        "        # Stack image channels\n",
        "        if self.transform_temporal:\n",
        "            frames_temporal = torch.cat(frames_temporal, dim=0)\n",
        "\n",
        "        return frame_spatial, frames_temporal, label"
      ]
    },
    {
      "cell_type": "code",
      "execution_count": 8,
      "id": "175c397a-473d-4308-a73b-5c11da9fb3c1",
      "metadata": {
        "id": "175c397a-473d-4308-a73b-5c11da9fb3c1"
      },
      "outputs": [],
      "source": [
        "frames_spatial_path = os.path.join(\"HMDB51\", \"frame_data\")\n",
        "frames_temporal_path = os.path.join(\"HMDB51\", \"optical_flow_data\")\n",
        "\n",
        "train_val_dataset = HMDB51TwoStreamDataset(train_val_files, train_val_labels_mapped,action_categories_map_inv,\n",
        "                                           frames_spatial_path, frames_temporal_path, OPTICAL_FLOW_SELECT,\n",
        "                                           transform_spatial=train_val_transforms_spatial,\n",
        "                                           transform_temporal=train_val_transforms_temporal)\n",
        "train_dataset = HMDB51TwoStreamDataset(train_files, train_labels_mapped,action_categories_map_inv,\n",
        "                                       frames_spatial_path, frames_temporal_path, OPTICAL_FLOW_SELECT,\n",
        "                                       transform_spatial=train_val_transforms_spatial,\n",
        "                                       transform_temporal=train_val_transforms_temporal)\n",
        "val_dataset = HMDB51TwoStreamDataset(val_files, val_labels_mapped,action_categories_map_inv,\n",
        "                                     frames_spatial_path, frames_temporal_path, OPTICAL_FLOW_SELECT,\n",
        "                                     transform_spatial=train_val_transforms_spatial,\n",
        "                                     transform_temporal=train_val_transforms_temporal)\n",
        "test_dataset = HMDB51TwoStreamDataset(test_files, test_labels_mapped,action_categories_map_inv,\n",
        "                                     frames_spatial_path, frames_temporal_path, OPTICAL_FLOW_SELECT,\n",
        "                                     transform_spatial=test_transforms_spatial,\n",
        "                                     transform_temporal=test_transforms_temporal)\n",
        "\n",
        "train_val_loader = DataLoader(train_val_dataset, batch_size=BATCH_SIZE, shuffle=True)\n",
        "train_loader = DataLoader(train_dataset, batch_size=BATCH_SIZE, shuffle=True)\n",
        "val_loader = DataLoader(val_dataset, batch_size=BATCH_SIZE, shuffle=False)\n",
        "test_loader = DataLoader(test_dataset, batch_size=BATCH_SIZE, shuffle=False)"
      ]
    },
    {
      "cell_type": "markdown",
      "id": "6dda19e6-3002-4f6e-ad15-264be0e8eac2",
      "metadata": {
        "id": "6dda19e6-3002-4f6e-ad15-264be0e8eac2"
      },
      "source": [
        "## Define, train, and evaluate model with pre-trained weights for streams"
      ]
    },
    {
      "cell_type": "markdown",
      "id": "dd20ba16-a380-442e-80f3-38b2d189f92d",
      "metadata": {
        "id": "dd20ba16-a380-442e-80f3-38b2d189f92d"
      },
      "source": [
        "## Load pre-trained HMDB51 Frames Model and Optical Flow Model and combine them into a two-stream model, fine-tune it, and evaluate it"
      ]
    },
    {
      "cell_type": "markdown",
      "id": "2f464231-8c66-432c-86eb-c4308acce970",
      "metadata": {
        "id": "2f464231-8c66-432c-86eb-c4308acce970"
      },
      "source": [
        "### Load pre-trained models, combine them, and show summary"
      ]
    },
    {
      "cell_type": "code",
      "execution_count": 9,
      "id": "a889d65e-b658-45ce-8568-6f056942a791",
      "metadata": {
        "id": "a889d65e-b658-45ce-8568-6f056942a791"
      },
      "outputs": [],
      "source": [
        "class TwoStreamModel(nn.Module):\n",
        "    def __init__(self, spatial_model, temporal_model, out_features_conv1x1=512, dropout_p=0.2, num_classes=12):\n",
        "        super(TwoStreamModel, self).__init__()\n",
        "\n",
        "        # Features each model will be contributing\n",
        "        in_features_spatial = spatial_model.fc.in_features\n",
        "        in_features_temporal = temporal_model.fc.in_features\n",
        "\n",
        "        # Remove layers from ends of models\n",
        "        # Remove average pooling, dropout, and fc layer from spatial model\n",
        "        self.SpatialStream = nn.Sequential(*(list(spatial_model.children())[:-3]))\n",
        "        # Remove average pooling and fc layer from temporal model\n",
        "        self.TemporalStream = nn.Sequential(*(list(temporal_model.children())[:-2]))\n",
        "\n",
        "        # Reduce combined features from models using 1x1 convolution\n",
        "        self.conv1x1 = nn.Conv2d(in_features_spatial + in_features_temporal, out_features_conv1x1, kernel_size=1, stride=1, bias=False)\n",
        "\n",
        "        # Global average pooling\n",
        "        self.avgpool = nn.AdaptiveAvgPool2d((1, 1))\n",
        "\n",
        "        # Dropout and classification\n",
        "        self.dropout = nn.Dropout(p=dropout_p)\n",
        "        self.combinedfc = nn.Linear(out_features_conv1x1, num_classes)\n",
        "        # Original fc layer from spatial stream\n",
        "        self.fc = spatial_model.fc\n",
        "\n",
        "    def forward(self, x1, x2):\n",
        "        # Run inputs through model streams\n",
        "        x1 = self.SpatialStream(x1)\n",
        "        x2 = self.TemporalStream(x2)\n",
        "\n",
        "        # Fusion stream spatial + temporal\n",
        "        # Combine features from models\n",
        "        x_combined = torch.cat((x1, x2), dim=1)\n",
        "\n",
        "        # Reduce combined features from models using 1x1 convolution\n",
        "        x_combined = self.conv1x1(x_combined)\n",
        "\n",
        "        # Global average pooling\n",
        "        x_combined = self.avgpool(x_combined)\n",
        "\n",
        "        # Dropout and classification\n",
        "        x_combined = torch.flatten(x_combined, 1)\n",
        "        x_combined = self.dropout(x_combined)\n",
        "        x_combined = self.combinedfc(x_combined)\n",
        "\n",
        "        # Continued spatial stream\n",
        "        # Global average pooling\n",
        "        x1 = self.avgpool(x1)\n",
        "\n",
        "        # Dropout and classification\n",
        "        x1 = torch.flatten(x1, 1)\n",
        "        x1 = self.dropout(x1)\n",
        "        x1 = self.fc(x1)\n",
        "\n",
        "        # Fuse classifcations with averaging\n",
        "        x = (x_combined + x1) / 2\n",
        "\n",
        "        return x"
      ]
    },
    {
      "cell_type": "code",
      "execution_count": 10,
      "id": "408510e6-bc17-48c2-9111-983bd6044974",
      "metadata": {
        "id": "408510e6-bc17-48c2-9111-983bd6044974",
        "outputId": "c536ecb3-7b4a-46f4-d733-b22af12f44d9",
        "colab": {
          "base_uri": "https://localhost:8080/"
        }
      },
      "outputs": [
        {
          "output_type": "execute_result",
          "data": {
            "text/plain": [
              "=============================================================================================================================\n",
              "Layer (type (var_name))                       Input Shape          Output Shape         Param #              Trainable\n",
              "=============================================================================================================================\n",
              "TwoStreamModel (TwoStreamModel)               [32, 3, 224, 224]    [32, 12]             --                   True\n",
              "├─Sequential (SpatialStream)                  [32, 3, 224, 224]    [32, 1024, 7, 7]     --                   True\n",
              "│    └─BasicConv2d (0)                        [32, 3, 224, 224]    [32, 64, 112, 112]   --                   True\n",
              "│    │    └─Conv2d (conv)                     [32, 3, 224, 224]    [32, 64, 112, 112]   9,408                True\n",
              "│    │    └─BatchNorm2d (bn)                  [32, 64, 112, 112]   [32, 64, 112, 112]   128                  True\n",
              "│    └─MaxPool2d (1)                          [32, 64, 112, 112]   [32, 64, 56, 56]     --                   --\n",
              "│    └─BasicConv2d (2)                        [32, 64, 56, 56]     [32, 64, 56, 56]     --                   True\n",
              "│    │    └─Conv2d (conv)                     [32, 64, 56, 56]     [32, 64, 56, 56]     4,096                True\n",
              "│    │    └─BatchNorm2d (bn)                  [32, 64, 56, 56]     [32, 64, 56, 56]     128                  True\n",
              "│    └─BasicConv2d (3)                        [32, 64, 56, 56]     [32, 192, 56, 56]    --                   True\n",
              "│    │    └─Conv2d (conv)                     [32, 64, 56, 56]     [32, 192, 56, 56]    110,592              True\n",
              "│    │    └─BatchNorm2d (bn)                  [32, 192, 56, 56]    [32, 192, 56, 56]    384                  True\n",
              "│    └─MaxPool2d (4)                          [32, 192, 56, 56]    [32, 192, 28, 28]    --                   --\n",
              "│    └─Inception (5)                          [32, 192, 28, 28]    [32, 256, 28, 28]    --                   True\n",
              "│    │    └─BasicConv2d (branch1)             [32, 192, 28, 28]    [32, 64, 28, 28]     12,416               True\n",
              "│    │    └─Sequential (branch2)              [32, 192, 28, 28]    [32, 128, 28, 28]    129,472              True\n",
              "│    │    └─Sequential (branch3)              [32, 192, 28, 28]    [32, 32, 28, 28]     7,776                True\n",
              "│    │    └─Sequential (branch4)              [32, 192, 28, 28]    [32, 32, 28, 28]     6,208                True\n",
              "│    └─Inception (6)                          [32, 256, 28, 28]    [32, 480, 28, 28]    --                   True\n",
              "│    │    └─BasicConv2d (branch1)             [32, 256, 28, 28]    [32, 128, 28, 28]    33,024               True\n",
              "│    │    └─Sequential (branch2)              [32, 256, 28, 28]    [32, 192, 28, 28]    254,592              True\n",
              "│    │    └─Sequential (branch3)              [32, 256, 28, 28]    [32, 96, 28, 28]     36,096               True\n",
              "│    │    └─Sequential (branch4)              [32, 256, 28, 28]    [32, 64, 28, 28]     16,512               True\n",
              "│    └─MaxPool2d (7)                          [32, 480, 28, 28]    [32, 480, 14, 14]    --                   --\n",
              "│    └─Inception (8)                          [32, 480, 14, 14]    [32, 512, 14, 14]    --                   True\n",
              "│    │    └─BasicConv2d (branch1)             [32, 480, 14, 14]    [32, 192, 14, 14]    92,544               True\n",
              "│    │    └─Sequential (branch2)              [32, 480, 14, 14]    [32, 208, 14, 14]    226,400              True\n",
              "│    │    └─Sequential (branch3)              [32, 480, 14, 14]    [32, 48, 14, 14]     14,720               True\n",
              "│    │    └─Sequential (branch4)              [32, 480, 14, 14]    [32, 64, 14, 14]     30,848               True\n",
              "│    └─Inception (9)                          [32, 512, 14, 14]    [32, 512, 14, 14]    --                   True\n",
              "│    │    └─BasicConv2d (branch1)             [32, 512, 14, 14]    [32, 160, 14, 14]    82,240               True\n",
              "│    │    └─Sequential (branch2)              [32, 512, 14, 14]    [32, 224, 14, 14]    283,808              True\n",
              "│    │    └─Sequential (branch3)              [32, 512, 14, 14]    [32, 64, 14, 14]     26,288               True\n",
              "│    │    └─Sequential (branch4)              [32, 512, 14, 14]    [32, 64, 14, 14]     32,896               True\n",
              "│    └─Inception (10)                         [32, 512, 14, 14]    [32, 512, 14, 14]    --                   True\n",
              "│    │    └─BasicConv2d (branch1)             [32, 512, 14, 14]    [32, 128, 14, 14]    65,792               True\n",
              "│    │    └─Sequential (branch2)              [32, 512, 14, 14]    [32, 256, 14, 14]    361,216              True\n",
              "│    │    └─Sequential (branch3)              [32, 512, 14, 14]    [32, 64, 14, 14]     26,288               True\n",
              "│    │    └─Sequential (branch4)              [32, 512, 14, 14]    [32, 64, 14, 14]     32,896               True\n",
              "│    └─Inception (11)                         [32, 512, 14, 14]    [32, 528, 14, 14]    --                   True\n",
              "│    │    └─BasicConv2d (branch1)             [32, 512, 14, 14]    [32, 112, 14, 14]    57,568               True\n",
              "│    │    └─Sequential (branch2)              [32, 512, 14, 14]    [32, 288, 14, 14]    447,840              True\n",
              "│    │    └─Sequential (branch3)              [32, 512, 14, 14]    [32, 64, 14, 14]     35,008               True\n",
              "│    │    └─Sequential (branch4)              [32, 512, 14, 14]    [32, 64, 14, 14]     32,896               True\n",
              "│    └─Inception (12)                         [32, 528, 14, 14]    [32, 832, 14, 14]    --                   True\n",
              "│    │    └─BasicConv2d (branch1)             [32, 528, 14, 14]    [32, 256, 14, 14]    135,680              True\n",
              "│    │    └─Sequential (branch2)              [32, 528, 14, 14]    [32, 320, 14, 14]    546,240              True\n",
              "│    │    └─Sequential (branch3)              [32, 528, 14, 14]    [32, 128, 14, 14]    54,080               True\n",
              "│    │    └─Sequential (branch4)              [32, 528, 14, 14]    [32, 128, 14, 14]    67,840               True\n",
              "│    └─MaxPool2d (13)                         [32, 832, 14, 14]    [32, 832, 7, 7]      --                   --\n",
              "│    └─Inception (14)                         [32, 832, 7, 7]      [32, 832, 7, 7]      --                   True\n",
              "│    │    └─BasicConv2d (branch1)             [32, 832, 7, 7]      [32, 256, 7, 7]      213,504              True\n",
              "│    │    └─Sequential (branch2)              [32, 832, 7, 7]      [32, 320, 7, 7]      594,880              True\n",
              "│    │    └─Sequential (branch3)              [32, 832, 7, 7]      [32, 128, 7, 7]      63,808               True\n",
              "│    │    └─Sequential (branch4)              [32, 832, 7, 7]      [32, 128, 7, 7]      106,752              True\n",
              "│    └─Inception (15)                         [32, 832, 7, 7]      [32, 1024, 7, 7]     --                   True\n",
              "│    │    └─BasicConv2d (branch1)             [32, 832, 7, 7]      [32, 384, 7, 7]      320,256              True\n",
              "│    │    └─Sequential (branch2)              [32, 832, 7, 7]      [32, 384, 7, 7]      824,448              True\n",
              "│    │    └─Sequential (branch3)              [32, 832, 7, 7]      [32, 128, 7, 7]      95,584               True\n",
              "│    │    └─Sequential (branch4)              [32, 832, 7, 7]      [32, 128, 7, 7]      106,752              True\n",
              "├─Sequential (TemporalStream)                 [32, 24, 224, 224]   [32, 512, 7, 7]      --                   True\n",
              "│    └─Conv2d (0)                             [32, 24, 224, 224]   [32, 64, 112, 112]   75,264               True\n",
              "│    └─BatchNorm2d (1)                        [32, 64, 112, 112]   [32, 64, 112, 112]   128                  True\n",
              "│    └─ReLU (2)                               [32, 64, 112, 112]   [32, 64, 112, 112]   --                   --\n",
              "│    └─MaxPool2d (3)                          [32, 64, 112, 112]   [32, 64, 56, 56]     --                   --\n",
              "│    └─Sequential (4)                         [32, 64, 56, 56]     [32, 64, 56, 56]     --                   True\n",
              "│    │    └─BasicBlock (0)                    [32, 64, 56, 56]     [32, 64, 56, 56]     73,984               True\n",
              "│    │    └─BasicBlock (1)                    [32, 64, 56, 56]     [32, 64, 56, 56]     73,984               True\n",
              "│    └─Sequential (5)                         [32, 64, 56, 56]     [32, 128, 28, 28]    --                   True\n",
              "│    │    └─BasicBlock (0)                    [32, 64, 56, 56]     [32, 128, 28, 28]    230,144              True\n",
              "│    │    └─BasicBlock (1)                    [32, 128, 28, 28]    [32, 128, 28, 28]    295,424              True\n",
              "│    └─Sequential (6)                         [32, 128, 28, 28]    [32, 256, 14, 14]    --                   True\n",
              "│    │    └─BasicBlock (0)                    [32, 128, 28, 28]    [32, 256, 14, 14]    919,040              True\n",
              "│    │    └─BasicBlock (1)                    [32, 256, 14, 14]    [32, 256, 14, 14]    1,180,672            True\n",
              "│    └─Sequential (7)                         [32, 256, 14, 14]    [32, 512, 7, 7]      --                   True\n",
              "│    │    └─BasicBlock (0)                    [32, 256, 14, 14]    [32, 512, 7, 7]      3,673,088            True\n",
              "│    │    └─BasicBlock (1)                    [32, 512, 7, 7]      [32, 512, 7, 7]      4,720,640            True\n",
              "├─Conv2d (conv1x1)                            [32, 1536, 7, 7]     [32, 1024, 7, 7]     1,572,864            True\n",
              "├─AdaptiveAvgPool2d (avgpool)                 [32, 1024, 7, 7]     [32, 1024, 1, 1]     --                   --\n",
              "├─Dropout (dropout)                           [32, 1024]           [32, 1024]           --                   --\n",
              "├─Linear (combinedfc)                         [32, 1024]           [32, 12]             12,300               True\n",
              "├─AdaptiveAvgPool2d (avgpool)                 [32, 1024, 7, 7]     [32, 1024, 1, 1]     --                   --\n",
              "├─Dropout (dropout)                           [32, 1024]           [32, 1024]           --                   --\n",
              "├─Linear (fc)                                 [32, 1024]           [32, 12]             12,300               True\n",
              "=============================================================================================================================\n",
              "Total params: 18,439,736\n",
              "Trainable params: 18,439,736\n",
              "Non-trainable params: 0\n",
              "Total mult-adds (G): 134.85\n",
              "=============================================================================================================================\n",
              "Input size (MB): 173.41\n",
              "Forward/backward pass size (MB): 2936.31\n",
              "Params size (MB): 73.76\n",
              "Estimated Total Size (MB): 3183.47\n",
              "============================================================================================================================="
            ]
          },
          "metadata": {},
          "execution_count": 10
        }
      ],
      "source": [
        "spatial_hmdb51 = torch.load(os.path.join(\"models\", \"spatial_hmdb51_middle.pt\"))\n",
        "temporal_hmdb51 = torch.load(os.path.join(\"models\", \"temporal_hmdb51.pt\"))\n",
        "\n",
        "twostream_hmdb51 = TwoStreamModel(spatial_hmdb51, temporal_hmdb51, OUT_FEATURES_CONV1X1, DROPOUT_PROBABILITY, len(action_categories))\n",
        "\n",
        "summary(model=twostream_hmdb51, input_size=[(BATCH_SIZE, 3, *IMAGE_SIZE), (BATCH_SIZE, len(OPTICAL_FLOW_SELECT)*3, *IMAGE_SIZE)],\n",
        "        col_width=20, col_names=[\"input_size\", \"output_size\", \"num_params\", \"trainable\"],\n",
        "        row_settings=[\"var_names\"], verbose=0)"
      ]
    },
    {
      "cell_type": "markdown",
      "id": "96027403-a90f-4d0b-a506-0d096c07d52d",
      "metadata": {
        "id": "96027403-a90f-4d0b-a506-0d096c07d52d"
      },
      "source": [
        "### Train and validate model"
      ]
    },
    {
      "cell_type": "code",
      "execution_count": 11,
      "id": "37e931a6-b1ce-483c-be34-6e284833da49",
      "metadata": {
        "id": "37e931a6-b1ce-483c-be34-6e284833da49"
      },
      "outputs": [],
      "source": [
        "def train_twostream_model_multiclass(model, num_classes, train_loader, validation_loader=None, device=\"cpu\", epochs=15, lr=0.001,\n",
        "                                     adapt_lr=\"step\", adapt_lr_step=5, adapt_lr_gamma=0.5, adapt_lr_max=-1,\n",
        "                                     tensorboard_tracking=False, experiment_name=\"Multiclass Classification\", model_name=None):\n",
        "    \"\"\"\n",
        "    Trains a two-stream model for multiclass classification.\n",
        "\n",
        "    :param model: model\n",
        "    :param num_classes: number of classes\n",
        "    :param train_loader: training data loader\n",
        "    :param validation_loader: validation data loader, if None then no validation\n",
        "    :param device: device choice\n",
        "    :param epochs: number of epochs\n",
        "    :param lr: learning rate\n",
        "    :param adapt_lr: \"step\" to adapt learning rate after certain amount of steps,\n",
        "                     \"cyclical\" to create cyclical learning rate schedule,\n",
        "                     otherwise static learning rate\n",
        "    :param adapt_lr_step: number of epochs to change learning rate after if adapt_lr is \"step\" or \"cyclical\"\n",
        "    :param adapt_lr_gamma: learning rate adaptation gamma if adapt_lr is \"step\" or \"cyclical\"\n",
        "    :param adapt_lr_max: max learning rate in cycle if adapt_lr is \"cyclical\" (base learning rate is set to lr),\n",
        "                         if -1 then set to 10 times the base learning rate\n",
        "    :param tensorboard_tracking: tracks training with TensorBoard if True\n",
        "    :param experiment_name: experiment name for Tensorboard for when tensorboard_tracking is True\n",
        "    :param model_name: model name for Tensorboard for when tensorboard_tracking is True,\n",
        "                       if None then uses class name of model\n",
        "\n",
        "    :return: returns model at best epoch, dictionary of training and validation results up to best epoch,\n",
        "             and learning rates up to best epoch\n",
        "    \"\"\"\n",
        "    global TENSORBOARD_NOT_OPEN\n",
        "\n",
        "    # Experiment tracking setup using TensorBoard\n",
        "    if tensorboard_tracking:\n",
        "        # Initialize a TensorBoard writer for logging\n",
        "        timestamp = datetime.now().strftime(\"%Y-%m-%d\")\n",
        "        if model_name is None:\n",
        "            model_name = model.__class__.__name__\n",
        "        os.makedirs(\"runs\", exist_ok=True)\n",
        "        writer = SummaryWriter(os.path.join(\"runs\", timestamp, experiment_name, model_name))\n",
        "\n",
        "    # Define optimizer\n",
        "    optimizer = optim.Adam(model.parameters(), lr=lr)\n",
        "    if adapt_lr == \"cyclical\":\n",
        "        if adapt_lr_max == -1:\n",
        "            adapt_lr_max = 10 * lr\n",
        "        scheduler = CyclicLR(optimizer, step_size_up=adapt_lr_step, base_lr=lr, max_lr=adapt_lr_max,\n",
        "                             scale_fn=lambda x: adapt_lr_gamma ** (x - 1), scale_mode=\"cycle\", cycle_momentum=False)\n",
        "    else:\n",
        "        scheduler = StepLR(optimizer, step_size=adapt_lr_step, gamma=adapt_lr_gamma)\n",
        "    # Define loss function\n",
        "    loss_fn = nn.CrossEntropyLoss()\n",
        "    # Define accuracy function\n",
        "    accuracy_fn = Accuracy(task=\"multiclass\", num_classes=num_classes)\n",
        "\n",
        "    # Move loss, accuracy, and model to the appropriate device\n",
        "    loss_fn = loss_fn.to(device)\n",
        "    accuracy_fn = accuracy_fn.to(device)\n",
        "    model = model.to(device)\n",
        "\n",
        "    history = {\"train_loss\":[], \"val_loss\":[], \"train_acc\": [], \"val_acc\": []}\n",
        "\n",
        "    learning_rates = []\n",
        "\n",
        "    best_val_acc = 0.0\n",
        "    best_val_loss = float(\"inf\")\n",
        "    best_epoch = 0\n",
        "    best_model_state = None\n",
        "\n",
        "    for epoch in tqdm(range(epochs)):\n",
        "        train_loss, train_acc = 0.0, 0.0\n",
        "\n",
        "        # Iterating over batches of training data\n",
        "        for X1, X2, y in train_loader:\n",
        "            X1, X2, y = X1.to(device), X2.to(device), y.to(device)\n",
        "\n",
        "            # Set model to training mode\n",
        "            model.train()\n",
        "\n",
        "            # Forward pass to compute predictions\n",
        "            y_pred = model(X1, X2)\n",
        "\n",
        "            # Calculate the current batch loss and accuracy and aggregate\n",
        "            loss = loss_fn(y_pred, y)\n",
        "            train_loss += loss.item()\n",
        "            train_acc += accuracy_fn(y_pred, y).item()\n",
        "\n",
        "            # Zero out gradients\n",
        "            optimizer.zero_grad()\n",
        "\n",
        "            # Backpropagate the loss\n",
        "            loss.backward()\n",
        "\n",
        "            # Update model parameters\n",
        "            optimizer.step()\n",
        "\n",
        "        # Average training loss and accuracy over all batches\n",
        "        train_loss /= len(train_loader)\n",
        "        train_acc /= len(train_loader)\n",
        "        # Keep history\n",
        "        history[\"train_loss\"].append(train_loss)\n",
        "        history[\"train_acc\"].append(train_acc)\n",
        "\n",
        "        val_loss, val_acc = 0.0, 0.0\n",
        "        # If running validation\n",
        "        if validation_loader is not None:\n",
        "            # Set model to evaluation mode\n",
        "            model.eval()\n",
        "            # Context manager for inference without gradient tracking\n",
        "            with torch.inference_mode():\n",
        "                # Iterating over batches of validation data\n",
        "                for X1, X2, y in validation_loader:\n",
        "                    X1, X2, y = X1.to(device), X2.to(device), y.to(device)\n",
        "\n",
        "                    # Forward pass to compute predictions\n",
        "                    y_pred = model(X1, X2)\n",
        "\n",
        "                    # Calculate the current batch loss and accuracy and aggregate\n",
        "                    val_loss += loss_fn(y_pred, y).item()\n",
        "                    val_acc += accuracy_fn(y_pred, y).item()\n",
        "\n",
        "            # Average validation loss and accuracy over all batches\n",
        "            val_loss /= len(validation_loader)\n",
        "            val_acc /= len(validation_loader)\n",
        "            # Keep history\n",
        "            history[\"val_loss\"].append(val_loss)\n",
        "            history[\"val_acc\"].append(val_acc)\n",
        "\n",
        "            # Check if the validation accuracy and loss improved\n",
        "            if val_acc > best_val_acc and val_loss < best_val_loss:\n",
        "                best_val_acc = val_acc\n",
        "                best_val_loss = val_loss\n",
        "                # Save the best model state\n",
        "                best_epoch = epoch\n",
        "                best_model_state = model.state_dict()\n",
        "        else:\n",
        "            # Keep values at 0 if not running validation\n",
        "            history[\"val_loss\"].append(val_loss)\n",
        "            history[\"val_acc\"].append(val_acc)\n",
        "\n",
        "        if tensorboard_tracking:\n",
        "            # Log training and validation loss and accuracy to TensorBoard\n",
        "            writer.add_scalars(main_tag=\"Validation Accuracy\", tag_scalar_dict={\"/acc\": val_acc}, global_step=epoch)\n",
        "            writer.add_scalars(main_tag=\"Validation Loss\", tag_scalar_dict={\"/loss\": val_loss}, global_step=epoch)\n",
        "            writer.add_scalars(main_tag=\"Train Accuracy\", tag_scalar_dict={\"/acc\": train_acc}, global_step=epoch)\n",
        "            writer.add_scalars(main_tag=\"Train Loss\", tag_scalar_dict={\"/loss\": train_loss}, global_step=epoch)\n",
        "\n",
        "            if TENSORBOARD_NOT_OPEN:\n",
        "                TENSORBOARD_NOT_OPEN = False\n",
        "                subprocess.Popen(f\"tensorboard --logdir=runs --port={6007}\", shell=True)\n",
        "                # Open a web browser tab, the time delay allows TensorBoard to start up\n",
        "                time.sleep(5)\n",
        "                webbrowser.open_new_tab(\"http://localhost:6007\")\n",
        "\n",
        "        print(f\"Epoch: {epoch}| Train loss: {train_loss: .5f}| Train acc: {train_acc: .5f}| Val loss: {val_loss: .5f}| Val acc: {val_acc: .5f}\")\n",
        "\n",
        "        # Get epoch learning rate\n",
        "        learning_rates.append(scheduler.get_last_lr())\n",
        "        # Step scheduler for learning rate adaptation\n",
        "        if adapt_lr == \"step\" or adapt_lr == \"cyclical\":\n",
        "            scheduler.step()\n",
        "\n",
        "    # Revert model to best state after training\n",
        "    if best_model_state is not None:\n",
        "        model.load_state_dict(best_model_state)\n",
        "        # Cut the history up to the best epoch\n",
        "        history[\"train_loss\"] = history[\"train_loss\"][:best_epoch + 1]\n",
        "        history[\"train_acc\"] = history[\"train_acc\"][:best_epoch + 1]\n",
        "        history[\"val_loss\"] = history[\"val_loss\"][:best_epoch + 1]\n",
        "        history[\"val_acc\"] = history[\"val_acc\"][:best_epoch + 1]\n",
        "        learning_rates = learning_rates[:best_epoch + 1]\n",
        "\n",
        "    if tensorboard_tracking:\n",
        "        writer.close()\n",
        "\n",
        "    return model, history, learning_rates"
      ]
    },
    {
      "cell_type": "code",
      "execution_count": 12,
      "id": "57af4c72-52c7-496b-9372-91c121a4727b",
      "metadata": {
        "colab": {
          "referenced_widgets": [
            "40282cb3df6a4c779db0271ad500e9e4",
            "fe35c34105414945bff0cb1b6cf29c94",
            "c1a20dd0307f48a0a192403a8dc8c6b4",
            "581693bb62234532aedd7261de07e441",
            "902653b9af8b40a2855f81987fc1998d",
            "af95057956b5451aa467f7bf79675717",
            "bf1d10aa08dc4224ba42c13cd22c3c04",
            "b8eacaca9ada46a8bb2cda5ddc4b97a4",
            "5eaa898a39c646938844947d032a6ed6",
            "3a706ce6325f4105a952b53ee124e8e9",
            "68a61115171141e5aab82ed5585e6382"
          ],
          "base_uri": "https://localhost:8080/",
          "height": 153
        },
        "id": "57af4c72-52c7-496b-9372-91c121a4727b",
        "outputId": "5a1ef3fd-daf1-4f71-b029-a01abea11dfe"
      },
      "outputs": [
        {
          "output_type": "display_data",
          "data": {
            "text/plain": [
              "  0%|          | 0/6 [00:00<?, ?it/s]"
            ],
            "application/vnd.jupyter.widget-view+json": {
              "version_major": 2,
              "version_minor": 0,
              "model_id": "40282cb3df6a4c779db0271ad500e9e4"
            }
          },
          "metadata": {}
        },
        {
          "output_type": "stream",
          "name": "stdout",
          "text": [
            "Epoch: 0| Train loss:  0.40916| Train acc:  0.92839| Val loss:  0.90967| Val acc:  0.66250\n",
            "Epoch: 1| Train loss:  0.13261| Train acc:  0.98047| Val loss:  0.82124| Val acc:  0.72083\n",
            "Epoch: 2| Train loss:  0.06561| Train acc:  0.99479| Val loss:  0.81029| Val acc:  0.75000\n",
            "Epoch: 3| Train loss:  0.04307| Train acc:  0.99740| Val loss:  0.80763| Val acc:  0.75000\n",
            "Epoch: 4| Train loss:  0.04567| Train acc:  0.99531| Val loss:  0.81394| Val acc:  0.72292\n",
            "Epoch: 5| Train loss:  0.03290| Train acc:  0.99870| Val loss:  0.76862| Val acc:  0.77083\n"
          ]
        }
      ],
      "source": [
        "twostream_hmdb51, history_twostream_hmdb51, lrs_twostream_hmdb51 = train_twostream_model_multiclass(\n",
        "    twostream_hmdb51, len(action_categories), train_loader, val_loader, DEVICE,\n",
        "    EPOCHS, LEARNING_RATE, \"step\", LEARNING_RATE_ADAPT_STEP, LEARNING_RATE_ADAPT_GAMMA,\n",
        "    tensorboard_tracking=TENSORBOARD_TRACKING, experiment_name=\"twostream_hmdb51\", model_name=\"twostream_hmdb51\"\n",
        ")"
      ]
    },
    {
      "cell_type": "markdown",
      "id": "0d359015-7ac6-4e07-b863-9eeb809f90f4",
      "metadata": {
        "id": "0d359015-7ac6-4e07-b863-9eeb809f90f4"
      },
      "source": [
        "### Plot accuracy and loss for training and validation"
      ]
    },
    {
      "cell_type": "code",
      "execution_count": 13,
      "id": "3e13b05a-aec0-45d8-9889-c3e43ed96a52",
      "metadata": {
        "id": "3e13b05a-aec0-45d8-9889-c3e43ed96a52"
      },
      "outputs": [],
      "source": [
        "def plot_train_val_metrics(history, model_name=\"Model\", file_name=\"results_model.png\"):\n",
        "    \"\"\"\n",
        "    Plots accuracy and loss for training and validation sets and outputs to file.\n",
        "\n",
        "    :param history: dictionary of training and validation results\n",
        "    :param model_name: model name for plot title\n",
        "    :param file_name: output file name\n",
        "    \"\"\"\n",
        "    plt.figure(figsize=(10, 4))\n",
        "\n",
        "    # Plot training and validation loss\n",
        "    plt.subplot(1, 2, 1)\n",
        "    plt.plot(history[\"train_loss\"], label=\"Training Loss\", color=\"black\")\n",
        "    plt.plot(history[\"val_loss\"], label=\"Validation Loss\", color=\"red\")\n",
        "    plt.title(\"Training & Validation Loss\")\n",
        "    plt.xlabel(\"Epochs\")\n",
        "    plt.ylabel(\"Loss\")\n",
        "    plt.legend()\n",
        "    plt.gca().xaxis.set_major_locator(MaxNLocator(integer=True))\n",
        "\n",
        "    # Plot training and validation accuracy\n",
        "    plt.subplot(1, 2, 2)\n",
        "    plt.plot(history[\"train_acc\"], label=\"Training Accuracy\", color=\"black\")\n",
        "    plt.plot(history[\"val_acc\"], label=\"Validation Accuracy\", color=\"red\")\n",
        "    plt.title(\"Training & Validation Accuracy\")\n",
        "    plt.xlabel(\"Epochs\")\n",
        "    plt.ylabel(\"Accuracy\")\n",
        "    plt.legend()\n",
        "    plt.gca().xaxis.set_major_locator(MaxNLocator(integer=True))\n",
        "\n",
        "    # Add a main title for the whole figure\n",
        "    plt.suptitle(f\"Training and Validation Metrics for {model_name}\")\n",
        "\n",
        "    # Adjust layout and show plot\n",
        "    plt.tight_layout()\n",
        "\n",
        "    # Save plot to file\n",
        "    os.makedirs(\"plots\", exist_ok=True)\n",
        "    plt.savefig(os.path.join(\"plots\", file_name), bbox_inches=\"tight\", dpi=300)\n",
        "\n",
        "    plt.show()"
      ]
    },
    {
      "cell_type": "code",
      "execution_count": 14,
      "id": "de3214e8-4be9-4bbf-9595-1998b48b5a2e",
      "metadata": {
        "id": "de3214e8-4be9-4bbf-9595-1998b48b5a2e",
        "outputId": "33e0ff45-43be-4afb-887d-042a7b322b31",
        "colab": {
          "base_uri": "https://localhost:8080/",
          "height": 413
        }
      },
      "outputs": [
        {
          "output_type": "display_data",
          "data": {
            "text/plain": [
              "<Figure size 1000x400 with 2 Axes>"
            ],
            "image/png": "[encoded data removed]"
          },
          "metadata": {}
        }
      ],
      "source": [
        "plot_train_val_metrics(history_twostream_hmdb51,\n",
        "                       \"HMDB51 Two-Stream Model (Frames and Optical Flow)\", \"results_twostream_hmdb51.png\")"
      ]
    },
    {
      "cell_type": "markdown",
      "id": "91e8b102-0cda-4c2a-8257-a9d7913450a8",
      "metadata": {
        "id": "91e8b102-0cda-4c2a-8257-a9d7913450a8"
      },
      "source": [
        "### Plot learning rate during training"
      ]
    },
    {
      "cell_type": "code",
      "execution_count": 15,
      "id": "2051d15d-81b2-4511-95fc-eda482932131",
      "metadata": {
        "id": "2051d15d-81b2-4511-95fc-eda482932131"
      },
      "outputs": [],
      "source": [
        "def plot_lr(lr_per_epoch, model_name=\"Model\", file_name=\"lrs_model.png\"):\n",
        "    \"\"\"\n",
        "    Plots learning rates for every epoch and outputs to file.\n",
        "\n",
        "    :param lr_per_epoch: learning rate for every epoch\n",
        "    :param model_name: model name for plot title\n",
        "    :param file_name: output file name\n",
        "    \"\"\"\n",
        "    # Plot learning rate\n",
        "    plt.figure(figsize=(6, 4))\n",
        "    plt.plot(lr_per_epoch)\n",
        "    plt.xlabel(\"Epochs\")\n",
        "    plt.ylabel(\"Learning Rate\")\n",
        "    plt.gca().xaxis.set_major_locator(MaxNLocator(integer=True))\n",
        "    plt.title(f\"Adaptive Learning Rate During Training for {model_name}\")\n",
        "\n",
        "    # Save plot to file\n",
        "    os.makedirs(\"plots\", exist_ok=True)\n",
        "    plt.savefig(os.path.join(\"plots\", file_name), bbox_inches=\"tight\", dpi=300)\n",
        "\n",
        "    plt.show()"
      ]
    },
    {
      "cell_type": "code",
      "execution_count": 16,
      "id": "dfff9843-f846-483b-beba-2cbbd03545c5",
      "metadata": {
        "id": "dfff9843-f846-483b-beba-2cbbd03545c5",
        "outputId": "def47f8d-e864-4328-c3ae-37f50212f51e",
        "colab": {
          "base_uri": "https://localhost:8080/",
          "height": 410
        }
      },
      "outputs": [
        {
          "output_type": "display_data",
          "data": {
            "text/plain": [
              "<Figure size 600x400 with 1 Axes>"
            ],
            "image/png": "[encoded data removed]"
          },
          "metadata": {}
        }
      ],
      "source": [
        "plot_lr(lrs_twostream_hmdb51, \"HMDB51 Two-Stream Model (Frames and Optical Flow)\", \"lrs_twostream_hmdb51.png\")"
      ]
    },
    {
      "cell_type": "markdown",
      "id": "346e6b9a-0caa-4b62-85d1-e133bed90a16",
      "metadata": {
        "id": "346e6b9a-0caa-4b62-85d1-e133bed90a16"
      },
      "source": [
        "### Export model"
      ]
    },
    {
      "cell_type": "code",
      "execution_count": 17,
      "id": "307c7f8c-b092-47da-b948-d4908724e7ba",
      "metadata": {
        "id": "307c7f8c-b092-47da-b948-d4908724e7ba"
      },
      "outputs": [],
      "source": [
        "def export_model(model, model_name=\"model\", script=False):\n",
        "    \"\"\"\n",
        "    Outputs model to file.\n",
        "\n",
        "    :param model: model\n",
        "    :param model_name: model name for output file name\n",
        "    :param script: scripted model output if True\n",
        "    \"\"\"\n",
        "    # Save model\n",
        "    os.makedirs(\"models\", exist_ok=True)\n",
        "    if script:\n",
        "        # Script model using TorchScript\n",
        "        model_scripted = torch.jit.script(model)\n",
        "        model_scripted.save(os.path.join(\"models\", model_name + \".pt\"))\n",
        "    else:\n",
        "        torch.save(model, os.path.join(\"models\", model_name + \".pt\"))"
      ]
    },
    {
      "cell_type": "code",
      "execution_count": 18,
      "id": "203b6ef5-aa9d-411f-94f3-033a8211ad59",
      "metadata": {
        "id": "203b6ef5-aa9d-411f-94f3-033a8211ad59"
      },
      "outputs": [],
      "source": [
        "export_model(twostream_hmdb51, \"twostream_hmdb51\")"
      ]
    },
    {
      "cell_type": "markdown",
      "id": "b1d20f8e-b300-416b-8575-b5b31bf4d760",
      "metadata": {
        "id": "b1d20f8e-b300-416b-8575-b5b31bf4d760"
      },
      "source": [
        "### Evalutate model on test set"
      ]
    },
    {
      "cell_type": "code",
      "execution_count": 19,
      "id": "b3cf5861-27b4-44a4-8142-2068fe5171a6",
      "metadata": {
        "id": "b3cf5861-27b4-44a4-8142-2068fe5171a6"
      },
      "outputs": [],
      "source": [
        "def test_twostream_model_multiclass(model, num_classes, test_loader, device=\"cpu\"):\n",
        "    \"\"\"\n",
        "    Tests a trained two-stream multiclass classification model on test data.\n",
        "\n",
        "    :param model: model\n",
        "    :param num_classes: number of classes\n",
        "    :param test_loader: test data loader\n",
        "    :param device: device choice\n",
        "    :return: returns test loss, test accuracy, predicted labels, and actual labels\n",
        "    \"\"\"\n",
        "    # Define loss function\n",
        "    loss_fn = nn.CrossEntropyLoss()\n",
        "    # Define accuracy function\n",
        "    accuracy_fn = Accuracy(task=\"multiclass\", num_classes=num_classes)\n",
        "\n",
        "    # Move loss, accuracy, and model to the appropriate device\n",
        "    loss_fn = loss_fn.to(device)\n",
        "    accuracy_fn = accuracy_fn.to(device)\n",
        "    model = model.to(device)\n",
        "\n",
        "    test_loss, test_acc = 0, 0\n",
        "    y_preds = []\n",
        "    y_labels = []\n",
        "\n",
        "    # Set model to evaluation mode\n",
        "    model.eval()\n",
        "    with torch.inference_mode():\n",
        "        # Iterating over batches of test data\n",
        "        for X1, X2, y in test_loader:\n",
        "            X1, X2, y = X1.to(device), X2.to(device), y.to(device)\n",
        "\n",
        "            # Forward pass to compute predictions\n",
        "            y_pred = model(X1, X2)\n",
        "\n",
        "            # Calculate the current batch loss and accuracy and aggregate\n",
        "            test_loss += loss_fn(y_pred, y).item()\n",
        "            test_acc += accuracy_fn(y_pred, y).item()\n",
        "\n",
        "            # Store predictions and labels\n",
        "            y_preds.extend(y_pred.argmax(dim=1).cpu().numpy())\n",
        "            y_labels.extend(y.cpu().numpy())\n",
        "\n",
        "        # Average test loss and accuracy over all batches\n",
        "        test_loss /= len(test_loader)\n",
        "        test_acc /= len(test_loader)\n",
        "\n",
        "    print(f\"Test loss: {test_loss: .5f}| Test acc: {test_acc: .5f}\")\n",
        "\n",
        "    return test_loss, test_acc, y_preds, y_labels"
      ]
    },
    {
      "cell_type": "code",
      "execution_count": 20,
      "id": "9cef6966-d759-4e07-8f56-f4025f328923",
      "metadata": {
        "id": "9cef6966-d759-4e07-8f56-f4025f328923",
        "outputId": "a38123ff-b6a1-482a-ff20-d40dda787b8b",
        "colab": {
          "base_uri": "https://localhost:8080/"
        }
      },
      "outputs": [
        {
          "output_type": "stream",
          "name": "stdout",
          "text": [
            "Test loss:  0.93554| Test acc:  0.71094\n"
          ]
        }
      ],
      "source": [
        "test_loss_twostream_hmdb51, test_acc_twostream_hmdb51, y_preds_twostream_hmdb51, y_labels_twostream_hmdb51 \\\n",
        "    = test_twostream_model_multiclass(twostream_hmdb51, len(action_categories), test_loader, DEVICE)"
      ]
    },
    {
      "cell_type": "markdown",
      "id": "ace164b7-6e58-412c-bc8f-61d64d1a5441",
      "metadata": {
        "id": "ace164b7-6e58-412c-bc8f-61d64d1a5441"
      },
      "source": [
        "### Plot confusion matrix"
      ]
    },
    {
      "cell_type": "code",
      "execution_count": 21,
      "id": "5bb879a1-7ac6-42bb-a65d-b91fe1eb57c4",
      "metadata": {
        "id": "5bb879a1-7ac6-42bb-a65d-b91fe1eb57c4"
      },
      "outputs": [],
      "source": [
        "def plot_confusion_matrix(preds, labels, labels_map, model_name=\"Model\", file_name=\"cm_model.png\"):\n",
        "    \"\"\"\n",
        "    Plots confusion matrix of predicted labels and actual labels and outputs to file.\n",
        "\n",
        "    :param preds: predicted labels\n",
        "    :param labels: actual labels\n",
        "    :param labels_map: dictionary of labels mapped to numeric model labels\n",
        "    :param model_name: model name for plot title\n",
        "    :param file_name: output file name\n",
        "    \"\"\"\n",
        "    # Extract label names based on mapping\n",
        "    label_names = [label for label, idx in labels_map.items()]\n",
        "\n",
        "    # Compute confusion matrix\n",
        "    cm = confusion_matrix(labels, preds)\n",
        "\n",
        "    # Plot confusion matrix\n",
        "    plt.figure(figsize=(10, 8))\n",
        "    sns.heatmap(cm, annot=True, fmt=\"d\", cmap=\"Blues\", xticklabels=label_names, yticklabels=label_names)\n",
        "    plt.xlabel(\"True labels\")\n",
        "    plt.ylabel(\"Predicted labels\")\n",
        "    plt.title(f\"Confusion Matrix for {model_name}\")\n",
        "\n",
        "    # Save plot to file\n",
        "    os.makedirs(\"plots\", exist_ok=True)\n",
        "    plt.savefig(os.path.join(\"plots\", file_name), bbox_inches=\"tight\", dpi=300)\n",
        "\n",
        "    plt.show()"
      ]
    },
    {
      "cell_type": "code",
      "execution_count": 22,
      "id": "913796dd-ac5a-433f-8c70-5886f026d422",
      "metadata": {
        "id": "913796dd-ac5a-433f-8c70-5886f026d422",
        "outputId": "5a40b650-ac54-4ab2-f1ef-d0c8a33008ea",
        "colab": {
          "base_uri": "https://localhost:8080/",
          "height": 778
        }
      },
      "outputs": [
        {
          "output_type": "display_data",
          "data": {
            "text/plain": [
              "<Figure size 1000x800 with 2 Axes>"
            ],
            "image/png": "[encoded data removed]"
          },
          "metadata": {}
        }
      ],
      "source": [
        "plot_confusion_matrix(y_preds_twostream_hmdb51, y_labels_twostream_hmdb51, action_categories_map,\n",
        "                      \"HMDB51 Two-Stream Model (Frames and Optical Flow)\", \"cm_twostream_hmdb51.png\")"
      ]
    },
    {
      "cell_type": "markdown",
      "id": "4d9fb19c-cf36-4387-ad53-0421312c90ea",
      "metadata": {
        "id": "4d9fb19c-cf36-4387-ad53-0421312c90ea"
      },
      "source": [
        "### Save model results"
      ]
    },
    {
      "cell_type": "code",
      "execution_count": 23,
      "id": "10fb5c4d-67a4-43d2-bc78-852511b4ab96",
      "metadata": {
        "id": "10fb5c4d-67a4-43d2-bc78-852511b4ab96"
      },
      "outputs": [],
      "source": [
        "def export_model_metrics(model_metrics, file_name=\"metrics_model.csv\"):\n",
        "    \"\"\"\n",
        "    Outputs training, validation, and test results for multiple models to file.\n",
        "\n",
        "    :param model_metrics: dictionary of dictionaries for every model with best epoch training and validation results\n",
        "                          and final test results\n",
        "    :param file_name: output file name\n",
        "    \"\"\"\n",
        "    # Convert metrics to dataframe\n",
        "    model_metrics_df = pd.DataFrame.from_dict(model_metrics, orient=\"index\")\n",
        "    print(model_metrics_df)\n",
        "\n",
        "    # Save dataframe\n",
        "    os.makedirs(\"results\", exist_ok=True)\n",
        "    model_metrics_df.to_csv(os.path.join(\"results\", file_name))"
      ]
    },
    {
      "cell_type": "code",
      "execution_count": 24,
      "id": "e57a5f59-3d27-4913-8314-1b45f4e52d16",
      "metadata": {
        "id": "e57a5f59-3d27-4913-8314-1b45f4e52d16",
        "outputId": "63a49d7e-c42d-408e-c918-a86e614c5a00",
        "colab": {
          "base_uri": "https://localhost:8080/"
        }
      },
      "outputs": [
        {
          "output_type": "stream",
          "name": "stdout",
          "text": [
            "                        train_loss  val_loss  train_acc   val_acc  test_loss  \\\n",
            "twostream_model_hmdb51    0.032902  0.768618   0.998698  0.770833   0.935538   \n",
            "\n",
            "                        test_acc  \n",
            "twostream_model_hmdb51  0.710938  \n"
          ]
        }
      ],
      "source": [
        "model_metrics = {\n",
        "    \"twostream_model_hmdb51\": {\n",
        "        \"train_loss\": history_twostream_hmdb51[\"train_loss\"][-1],\n",
        "        \"val_loss\": history_twostream_hmdb51[\"val_loss\"][-1],\n",
        "        \"train_acc\": history_twostream_hmdb51[\"train_acc\"][-1],\n",
        "        \"val_acc\": history_twostream_hmdb51[\"val_acc\"][-1],\n",
        "        \"test_loss\": test_loss_twostream_hmdb51,\n",
        "        \"test_acc\": test_acc_twostream_hmdb51\n",
        "    }\n",
        "}\n",
        "\n",
        "export_model_metrics(model_metrics, \"metrics_twostream_hmdb51.csv\")"
      ]
    }
  ],
  "metadata": {
    "kernelspec": {
      "display_name": "Python 3",
      "name": "python3"
    },
    "language_info": {
      "codemirror_mode": {
        "name": "ipython",
        "version": 3
      },
      "file_extension": ".py",
      "mimetype": "text/x-python",
      "name": "python",
      "nbconvert_exporter": "python",
      "pygments_lexer": "ipython3",
      "version": "3.9.10"
    },
    "colab": {
      "provenance": [],
      "gpuType": "T4"
    },
    "accelerator": "GPU",
    "widgets": {
      "application/vnd.jupyter.widget-state+json": {
        "40282cb3df6a4c779db0271ad500e9e4": {
          "model_module": "@jupyter-widgets/controls",
          "model_name": "HBoxModel",
          "model_module_version": "1.5.0",
          "state": {
            "_dom_classes": [],
            "_model_module": "@jupyter-widgets/controls",
            "_model_module_version": "1.5.0",
            "_model_name": "HBoxModel",
            "_view_count": null,
            "_view_module": "@jupyter-widgets/controls",
            "_view_module_version": "1.5.0",
            "_view_name": "HBoxView",
            "box_style": "",
            "children": [
              "IPY_MODEL_fe35c34105414945bff0cb1b6cf29c94",
              "IPY_MODEL_c1a20dd0307f48a0a192403a8dc8c6b4",
              "IPY_MODEL_581693bb62234532aedd7261de07e441"
            ],
            "layout": "IPY_MODEL_902653b9af8b40a2855f81987fc1998d"
          }
        },
        "fe35c34105414945bff0cb1b6cf29c94": {
          "model_module": "@jupyter-widgets/controls",
          "model_name": "HTMLModel",
          "model_module_version": "1.5.0",
          "state": {
            "_dom_classes": [],
            "_model_module": "@jupyter-widgets/controls",
            "_model_module_version": "1.5.0",
            "_model_name": "HTMLModel",
            "_view_count": null,
            "_view_module": "@jupyter-widgets/controls",
            "_view_module_version": "1.5.0",
            "_view_name": "HTMLView",
            "description": "",
            "description_tooltip": null,
            "layout": "IPY_MODEL_af95057956b5451aa467f7bf79675717",
            "placeholder": "​",
            "style": "IPY_MODEL_bf1d10aa08dc4224ba42c13cd22c3c04",
            "value": "100%"
          }
        },
        "c1a20dd0307f48a0a192403a8dc8c6b4": {
          "model_module": "@jupyter-widgets/controls",
          "model_name": "FloatProgressModel",
          "model_module_version": "1.5.0",
          "state": {
            "_dom_classes": [],
            "_model_module": "@jupyter-widgets/controls",
            "_model_module_version": "1.5.0",
            "_model_name": "FloatProgressModel",
            "_view_count": null,
            "_view_module": "@jupyter-widgets/controls",
            "_view_module_version": "1.5.0",
            "_view_name": "ProgressView",
            "bar_style": "success",
            "description": "",
            "description_tooltip": null,
            "layout": "IPY_MODEL_b8eacaca9ada46a8bb2cda5ddc4b97a4",
            "max": 6,
            "min": 0,
            "orientation": "horizontal",
            "style": "IPY_MODEL_5eaa898a39c646938844947d032a6ed6",
            "value": 6
          }
        },
        "581693bb62234532aedd7261de07e441": {
          "model_module": "@jupyter-widgets/controls",
          "model_name": "HTMLModel",
          "model_module_version": "1.5.0",
          "state": {
            "_dom_classes": [],
            "_model_module": "@jupyter-widgets/controls",
            "_model_module_version": "1.5.0",
            "_model_name": "HTMLModel",
            "_view_count": null,
            "_view_module": "@jupyter-widgets/controls",
            "_view_module_version": "1.5.0",
            "_view_name": "HTMLView",
            "description": "",
            "description_tooltip": null,
            "layout": "IPY_MODEL_3a706ce6325f4105a952b53ee124e8e9",
            "placeholder": "​",
            "style": "IPY_MODEL_68a61115171141e5aab82ed5585e6382",
            "value": " 6/6 [03:08&lt;00:00, 30.69s/it]"
          }
        },
        "902653b9af8b40a2855f81987fc1998d": {
          "model_module": "@jupyter-widgets/base",
          "model_name": "LayoutModel",
          "model_module_version": "1.2.0",
          "state": {
            "_model_module": "@jupyter-widgets/base",
            "_model_module_version": "1.2.0",
            "_model_name": "LayoutModel",
            "_view_count": null,
            "_view_module": "@jupyter-widgets/base",
            "_view_module_version": "1.2.0",
            "_view_name": "LayoutView",
            "align_content": null,
            "align_items": null,
            "align_self": null,
            "border": null,
            "bottom": null,
            "display": null,
            "flex": null,
            "flex_flow": null,
            "grid_area": null,
            "grid_auto_columns": null,
            "grid_auto_flow": null,
            "grid_auto_rows": null,
            "grid_column": null,
            "grid_gap": null,
            "grid_row": null,
            "grid_template_areas": null,
            "grid_template_columns": null,
            "grid_template_rows": null,
            "height": null,
            "justify_content": null,
            "justify_items": null,
            "left": null,
            "margin": null,
            "max_height": null,
            "max_width": null,
            "min_height": null,
            "min_width": null,
            "object_fit": null,
            "object_position": null,
            "order": null,
            "overflow": null,
            "overflow_x": null,
            "overflow_y": null,
            "padding": null,
            "right": null,
            "top": null,
            "visibility": null,
            "width": null
          }
        },
        "af95057956b5451aa467f7bf79675717": {
          "model_module": "@jupyter-widgets/base",
          "model_name": "LayoutModel",
          "model_module_version": "1.2.0",
          "state": {
            "_model_module": "@jupyter-widgets/base",
            "_model_module_version": "1.2.0",
            "_model_name": "LayoutModel",
            "_view_count": null,
            "_view_module": "@jupyter-widgets/base",
            "_view_module_version": "1.2.0",
            "_view_name": "LayoutView",
            "align_content": null,
            "align_items": null,
            "align_self": null,
            "border": null,
            "bottom": null,
            "display": null,
            "flex": null,
            "flex_flow": null,
            "grid_area": null,
            "grid_auto_columns": null,
            "grid_auto_flow": null,
            "grid_auto_rows": null,
            "grid_column": null,
            "grid_gap": null,
            "grid_row": null,
            "grid_template_areas": null,
            "grid_template_columns": null,
            "grid_template_rows": null,
            "height": null,
            "justify_content": null,
            "justify_items": null,
            "left": null,
            "margin": null,
            "max_height": null,
            "max_width": null,
            "min_height": null,
            "min_width": null,
            "object_fit": null,
            "object_position": null,
            "order": null,
            "overflow": null,
            "overflow_x": null,
            "overflow_y": null,
            "padding": null,
            "right": null,
            "top": null,
            "visibility": null,
            "width": null
          }
        },
        "bf1d10aa08dc4224ba42c13cd22c3c04": {
          "model_module": "@jupyter-widgets/controls",
          "model_name": "DescriptionStyleModel",
          "model_module_version": "1.5.0",
          "state": {
            "_model_module": "@jupyter-widgets/controls",
            "_model_module_version": "1.5.0",
            "_model_name": "DescriptionStyleModel",
            "_view_count": null,
            "_view_module": "@jupyter-widgets/base",
            "_view_module_version": "1.2.0",
            "_view_name": "StyleView",
            "description_width": ""
          }
        },
        "b8eacaca9ada46a8bb2cda5ddc4b97a4": {
          "model_module": "@jupyter-widgets/base",
          "model_name": "LayoutModel",
          "model_module_version": "1.2.0",
          "state": {
            "_model_module": "@jupyter-widgets/base",
            "_model_module_version": "1.2.0",
            "_model_name": "LayoutModel",
            "_view_count": null,
            "_view_module": "@jupyter-widgets/base",
            "_view_module_version": "1.2.0",
            "_view_name": "LayoutView",
            "align_content": null,
            "align_items": null,
            "align_self": null,
            "border": null,
            "bottom": null,
            "display": null,
            "flex": null,
            "flex_flow": null,
            "grid_area": null,
            "grid_auto_columns": null,
            "grid_auto_flow": null,
            "grid_auto_rows": null,
            "grid_column": null,
            "grid_gap": null,
            "grid_row": null,
            "grid_template_areas": null,
            "grid_template_columns": null,
            "grid_template_rows": null,
            "height": null,
            "justify_content": null,
            "justify_items": null,
            "left": null,
            "margin": null,
            "max_height": null,
            "max_width": null,
            "min_height": null,
            "min_width": null,
            "object_fit": null,
            "object_position": null,
            "order": null,
            "overflow": null,
            "overflow_x": null,
            "overflow_y": null,
            "padding": null,
            "right": null,
            "top": null,
            "visibility": null,
            "width": null
          }
        },
        "5eaa898a39c646938844947d032a6ed6": {
          "model_module": "@jupyter-widgets/controls",
          "model_name": "ProgressStyleModel",
          "model_module_version": "1.5.0",
          "state": {
            "_model_module": "@jupyter-widgets/controls",
            "_model_module_version": "1.5.0",
            "_model_name": "ProgressStyleModel",
            "_view_count": null,
            "_view_module": "@jupyter-widgets/base",
            "_view_module_version": "1.2.0",
            "_view_name": "StyleView",
            "bar_color": null,
            "description_width": ""
          }
        },
        "3a706ce6325f4105a952b53ee124e8e9": {
          "model_module": "@jupyter-widgets/base",
          "model_name": "LayoutModel",
          "model_module_version": "1.2.0",
          "state": {
            "_model_module": "@jupyter-widgets/base",
            "_model_module_version": "1.2.0",
            "_model_name": "LayoutModel",
            "_view_count": null,
            "_view_module": "@jupyter-widgets/base",
            "_view_module_version": "1.2.0",
            "_view_name": "LayoutView",
            "align_content": null,
            "align_items": null,
            "align_self": null,
            "border": null,
            "bottom": null,
            "display": null,
            "flex": null,
            "flex_flow": null,
            "grid_area": null,
            "grid_auto_columns": null,
            "grid_auto_flow": null,
            "grid_auto_rows": null,
            "grid_column": null,
            "grid_gap": null,
            "grid_row": null,
            "grid_template_areas": null,
            "grid_template_columns": null,
            "grid_template_rows": null,
            "height": null,
            "justify_content": null,
            "justify_items": null,
            "left": null,
            "margin": null,
            "max_height": null,
            "max_width": null,
            "min_height": null,
            "min_width": null,
            "object_fit": null,
            "object_position": null,
            "order": null,
            "overflow": null,
            "overflow_x": null,
            "overflow_y": null,
            "padding": null,
            "right": null,
            "top": null,
            "visibility": null,
            "width": null
          }
        },
        "68a61115171141e5aab82ed5585e6382": {
          "model_module": "@jupyter-widgets/controls",
          "model_name": "DescriptionStyleModel",
          "model_module_version": "1.5.0",
          "state": {
            "_model_module": "@jupyter-widgets/controls",
            "_model_module_version": "1.5.0",
            "_model_name": "DescriptionStyleModel",
            "_view_count": null,
            "_view_module": "@jupyter-widgets/base",
            "_view_module_version": "1.2.0",
            "_view_name": "StyleView",
            "description_width": ""
          }
        }
      }
    }
  },
  "nbformat": 4,
  "nbformat_minor": 5
}